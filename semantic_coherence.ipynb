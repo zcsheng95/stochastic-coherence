{
 "cells": [
  {
   "attachments": {},
   "cell_type": "markdown",
   "metadata": {},
   "source": [
    "## Define Function"
   ]
  },
  {
   "cell_type": "code",
   "execution_count": 1,
   "metadata": {},
   "outputs": [],
   "source": [
    "from sklearn.cluster import KMeans\n",
    "from sklearn.metrics.pairwise import cosine_similarity"
   ]
  },
  {
   "cell_type": "code",
   "execution_count": 2,
   "metadata": {},
   "outputs": [],
   "source": [
    "from sentence_transformers import SentenceTransformer\n",
    "\n",
    "model = SentenceTransformer('sentence-transformers/all-mpnet-base-v2')"
   ]
  },
  {
   "cell_type": "code",
   "execution_count": 3,
   "metadata": {},
   "outputs": [],
   "source": [
    "def get_coherence_score(text):\n",
    "    d = \"[\"\n",
    "    sentences = text.split(\"  [\")\n",
    "    sentences = sentences[1:]\n",
    "    sentences = [d+sentence for sentence in sentences]\n",
    "\n",
    "    embeddings = model.encode(sentences)\n",
    "\n",
    "    kmeans = KMeans(n_clusters=2, random_state=42)\n",
    "    kmeans.fit(embeddings)\n",
    "\n",
    "    center_list = []\n",
    "    for center in kmeans.cluster_centers_:\n",
    "        center_list.append(center.reshape(1, -1))\n",
    "\n",
    "    return cosine_similarity(center_list[0], center_list[1])\n"
   ]
  },
  {
   "cell_type": "markdown",
   "metadata": {},
   "source": [
    "## Calculate Scores"
   ]
  },
  {
   "cell_type": "code",
   "execution_count": 25,
   "metadata": {},
   "outputs": [
    {
     "name": "stdout",
     "output_type": "stream",
     "text": [
      "env: OMP_NUM_THREADS=1\n"
     ]
    }
   ],
   "source": [
    "import os\n",
    "import pandas as pd\n",
    "import numpy as np\n",
    "\n",
    "%env OMP_NUM_THREADS=1\n",
    "\n",
    "import warnings\n",
    "warnings.filterwarnings('ignore')"
   ]
  },
  {
   "cell_type": "code",
   "execution_count": 30,
   "metadata": {},
   "outputs": [],
   "source": [
    "mypath = 'generated/TM2'\n",
    "all_files = [os.path.join(dirpath,f) for (dirpath, dirnames, filenames) in os.walk(mypath) for f in filenames]"
   ]
  },
  {
   "cell_type": "code",
   "execution_count": 31,
   "metadata": {},
   "outputs": [
    {
     "name": "stdout",
     "output_type": "stream",
     "text": [
      "generated/TM2\\LM_tm2_16_bridgeCLEmbs_sample_examples.csv\n",
      " Text 0: 0.5686\n",
      " Text 1: 0.7361\n",
      " Text 2: 0.6881\n",
      " Text 3: 0.7775\n",
      " Text 4: 0.7161\n",
      " - Average Score: 0.6973\n",
      "generated/TM2\\LM_tm2_16_forced_2_bridgeCLEmbs_sample_examples.csv\n",
      " Text 0: 0.5761\n",
      " Text 1: 0.7333\n",
      " Text 2: 0.6547\n",
      " Text 3: 0.7572\n",
      " Text 4: 0.7096\n",
      " - Average Score: 0.6862\n",
      "generated/TM2\\LM_tm2_16_forced_3_bridgeCLEmbs_sample_examples.csv\n",
      " Text 0: 0.7093\n",
      " Text 1: 0.5962\n",
      " Text 2: 0.4975\n",
      " Text 3: 0.7729\n",
      " Text 4: 0.7465\n",
      " - Average Score: 0.6645\n",
      "generated/TM2\\LM_tm2_16_randomCLEmbs_sample_examples.csv\n",
      " Text 0: 0.5600\n",
      " Text 1: 0.7227\n",
      " Text 2: 0.7020\n",
      " Text 3: 0.6302\n",
      " Text 4: 0.6974\n",
      " - Average Score: 0.6625\n",
      "generated/TM2\\LM_tm2_16_trueCLEmbs_sample_examples.csv\n",
      " Text 0: 0.6285\n",
      " Text 1: 0.5173\n",
      " Text 2: 0.5548\n",
      " Text 3: 0.5295\n",
      " Text 4: 0.6717\n",
      " - Average Score: 0.5804\n"
     ]
    }
   ],
   "source": [
    "for filename in all_files:\n",
    "    if 'examples' in  filename:\n",
    "        print(filename)\n",
    "        df = pd.read_csv(filename)\n",
    "\n",
    "        score_list = []\n",
    "        idx = 0\n",
    "        for text in df['text']:\n",
    "            score = get_coherence_score(text)\n",
    "            print(f' Text {idx}: {score.item():.4f}')\n",
    "            idx += 1\n",
    "            score_list.append(score.item())\n",
    "        print(f' - Average Score: {np.mean(score_list):.4f}')"
   ]
  },
  {
   "cell_type": "markdown",
   "metadata": {},
   "source": []
  }
 ],
 "metadata": {
  "kernelspec": {
   "display_name": "Python 3.10.6 ('nlp')",
   "language": "python",
   "name": "python3"
  },
  "language_info": {
   "codemirror_mode": {
    "name": "ipython",
    "version": 3
   },
   "file_extension": ".py",
   "mimetype": "text/x-python",
   "name": "python",
   "nbconvert_exporter": "python",
   "pygments_lexer": "ipython3",
   "version": "3.10.6"
  },
  "orig_nbformat": 4,
  "vscode": {
   "interpreter": {
    "hash": "6d4e4cca39bec51951aff29c6b8e1616900002ac62f330e4827c7b27774bb1e6"
   }
  }
 },
 "nbformat": 4,
 "nbformat_minor": 2
}
