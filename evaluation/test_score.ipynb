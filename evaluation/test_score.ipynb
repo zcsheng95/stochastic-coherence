{
  "nbformat": 4,
  "nbformat_minor": 0,
  "metadata": {
    "colab": {
      "provenance": []
    },
    "kernelspec": {
      "name": "python3",
      "display_name": "Python 3"
    },
    "language_info": {
      "name": "python"
    }
  },
  "cells": [
    {
      "cell_type": "code",
      "execution_count": 1,
      "metadata": {
        "colab": {
          "base_uri": "https://localhost:8080/"
        },
        "id": "j8rM2UUsa6LS",
        "outputId": "b11ed434-58bd-4a5d-e54e-8a1d72b54bc9"
      },
      "outputs": [
        {
          "output_type": "stream",
          "name": "stdout",
          "text": [
            "Looking in indexes: https://pypi.org/simple, https://us-python.pkg.dev/colab-wheels/public/simple/\n",
            "Collecting tomotopy\n",
            "  Downloading tomotopy-0.12.3-cp38-cp38-manylinux_2_12_x86_64.manylinux2010_x86_64.whl (16.5 MB)\n",
            "\u001b[K     |████████████████████████████████| 16.5 MB 167 kB/s \n",
            "\u001b[?25hRequirement already satisfied: numpy>=1.11.0 in /usr/local/lib/python3.8/dist-packages (from tomotopy) (1.21.6)\n",
            "Installing collected packages: tomotopy\n",
            "Successfully installed tomotopy-0.12.3\n"
          ]
        }
      ],
      "source": [
        "pip install tomotopy"
      ]
    },
    {
      "cell_type": "code",
      "source": [
        "pip install nltk"
      ],
      "metadata": {
        "colab": {
          "base_uri": "https://localhost:8080/"
        },
        "id": "eiSXcaw7a8UF",
        "outputId": "23656340-089f-4984-d04e-979c3511b4f8"
      },
      "execution_count": 2,
      "outputs": [
        {
          "output_type": "stream",
          "name": "stdout",
          "text": [
            "Looking in indexes: https://pypi.org/simple, https://us-python.pkg.dev/colab-wheels/public/simple/\n",
            "Requirement already satisfied: nltk in /usr/local/lib/python3.8/dist-packages (3.7)\n",
            "Requirement already satisfied: regex>=2021.8.3 in /usr/local/lib/python3.8/dist-packages (from nltk) (2022.6.2)\n",
            "Requirement already satisfied: tqdm in /usr/local/lib/python3.8/dist-packages (from nltk) (4.64.1)\n",
            "Requirement already satisfied: joblib in /usr/local/lib/python3.8/dist-packages (from nltk) (1.2.0)\n",
            "Requirement already satisfied: click in /usr/local/lib/python3.8/dist-packages (from nltk) (7.1.2)\n"
          ]
        }
      ]
    },
    {
      "cell_type": "code",
      "source": [
        "import tomotopy as tp\n",
        "import nltk\n",
        "from nltk.corpus import stopwords\n",
        "import re\n",
        "from sklearn.datasets import fetch_20newsgroups\n",
        "import itertools"
      ],
      "metadata": {
        "id": "En1d_TaDa9j2"
      },
      "execution_count": 3,
      "outputs": []
    },
    {
      "cell_type": "code",
      "source": [
        "def get_score(lda_model, input_text):\n",
        "  #input: \n",
        "  # lda_model: mdl model \n",
        "  # input_text: str\n",
        "\n",
        "  #output:\n",
        "  # two score of the input text: c_uci, and c_v\n",
        "  input_text_list = input_text.split(\" \")\n",
        "  score_list = []\n",
        "  for preset in [\"c_uci\", \"c_v\"]:\n",
        "    est_ch = tp.coherence.Coherence(mdl, coherence=preset)\n",
        "    score_temp = est_ch.get_score(words = input_text_list)\n",
        "    score_list.append(score_temp)\n",
        "  \n",
        "  return score_list[0], score_list[1]"
      ],
      "metadata": {
        "id": "eXSkgzlRbREU"
      },
      "execution_count": null,
      "outputs": []
    },
    {
      "cell_type": "code",
      "source": [
        "#load model\n",
        "mdl = tp.LDAModel.load('trained_lda_model.bin')"
      ],
      "metadata": {
        "colab": {
          "base_uri": "https://localhost:8080/",
          "height": 170
        },
        "id": "hEH4s_aea_NT",
        "outputId": "4767051c-df50-4a3f-c56e-2241f5ae213e"
      },
      "execution_count": 4,
      "outputs": [
        {
          "output_type": "error",
          "ename": "OSError",
          "evalue": "ignored",
          "traceback": [
            "\u001b[0;31m---------------------------------------------------------------------------\u001b[0m",
            "\u001b[0;31mOSError\u001b[0m                                   Traceback (most recent call last)",
            "\u001b[0;32m<ipython-input-4-316c4c07519a>\u001b[0m in \u001b[0;36m<module>\u001b[0;34m\u001b[0m\n\u001b[0;32m----> 1\u001b[0;31m \u001b[0mmdl\u001b[0m \u001b[0;34m=\u001b[0m \u001b[0mtp\u001b[0m\u001b[0;34m.\u001b[0m\u001b[0mLDAModel\u001b[0m\u001b[0;34m.\u001b[0m\u001b[0mload\u001b[0m\u001b[0;34m(\u001b[0m\u001b[0;34m'trained_lda_model.bin'\u001b[0m\u001b[0;34m)\u001b[0m\u001b[0;34m\u001b[0m\u001b[0;34m\u001b[0m\u001b[0m\n\u001b[0m",
            "\u001b[0;31mOSError\u001b[0m: cannot open file 'trained_lda_model.bin'"
          ]
        }
      ]
    },
    {
      "cell_type": "code",
      "source": [
        "input_text = \" \"\n",
        "uci_score, v_score = get_score(mdl, input_text)"
      ],
      "metadata": {
        "id": "xmqdvfFdcEX_"
      },
      "execution_count": null,
      "outputs": []
    }
  ]
}